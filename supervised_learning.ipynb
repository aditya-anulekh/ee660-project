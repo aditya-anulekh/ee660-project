{
 "cells": [
  {
   "cell_type": "markdown",
   "metadata": {},
   "source": [
    "# Supervised Learning Models"
   ]
  },
  {
   "cell_type": "code",
   "execution_count": 1,
   "metadata": {},
   "outputs": [],
   "source": [
    "%load_ext autoreload\n",
    "%autoreload 2"
   ]
  },
  {
   "cell_type": "code",
   "execution_count": 7,
   "metadata": {
    "collapsed": true
   },
   "outputs": [],
   "source": [
    "import os\n",
    "from sklearn.linear_model import LogisticRegression\n",
    "from sklearn.ensemble import RandomForestClassifier\n",
    "from sklearn.neural_network import MLPClassifier\n",
    "from sklearn.neighbors import KNeighborsClassifier\n",
    "from sklearn.tree import DecisionTreeClassifier\n",
    "from sklearn.svm import SVC\n",
    "from imblearn.over_sampling import SMOTE, ADASYN\n",
    "from imblearn.under_sampling import (\n",
    "    RandomUnderSampler,\n",
    "    EditedNearestNeighbours\n",
    ")\n",
    "from imblearn.combine import SMOTEENN\n",
    "from train import grid_search\n",
    "from utils import get_data\n",
    "import config"
   ]
  },
  {
   "cell_type": "code",
   "execution_count": 3,
   "metadata": {},
   "outputs": [],
   "source": [
    "X_train, X_test, y_train, y_test = get_data(\n",
    "    os.path.join(config.DATASET_ROOT,\n",
    "                 'magic04.data'),\n",
    "    columns=config.FEATURE_NAMES\n",
    ")"
   ]
  },
  {
   "cell_type": "markdown",
   "metadata": {},
   "source": [
    "# TODO: Trivial and baseline classifiers"
   ]
  },
  {
   "cell_type": "code",
   "execution_count": 4,
   "metadata": {},
   "outputs": [],
   "source": [
    "estimators = [\n",
    "    RandomForestClassifier,\n",
    "    MLPClassifier,\n",
    "    KNeighborsClassifier,\n",
    "    DecisionTreeClassifier,\n",
    "    SVC\n",
    "]"
   ]
  },
  {
   "cell_type": "markdown",
   "metadata": {},
   "source": [
    "## Fit estimators without any oversampling/undersampling"
   ]
  },
  {
   "cell_type": "code",
   "execution_count": 5,
   "metadata": {},
   "outputs": [
    {
     "name": "stdout",
     "output_type": "stream",
     "text": [
      "Fitting 5 folds for each of 54 candidates, totalling 270 fits\n",
      "[CV] END estimator__criterion=gini, estimator__min_samples_split=10, estimator__n_estimators=10; total time=   0.4s\n",
      "[CV] END estimator__criterion=gini, estimator__min_samples_split=10, estimator__n_estimators=10; total time=   0.4s\n",
      "[CV] END estimator__criterion=gini, estimator__min_samples_split=10, estimator__n_estimators=10; total time=   0.4s\n",
      "[CV] END estimator__criterion=gini, estimator__min_samples_split=10, estimator__n_estimators=10; total time=   0.4s\n",
      "[CV] END estimator__criterion=gini, estimator__min_samples_split=10, estimator__n_estimators=10; total time=   0.4s\n",
      "[CV] END estimator__criterion=gini, estimator__min_samples_split=10, estimator__n_estimators=20; total time=   0.6s\n",
      "[CV] END estimator__criterion=gini, estimator__min_samples_split=10, estimator__n_estimators=20; total time=   0.6s\n",
      "[CV] END estimator__criterion=gini, estimator__min_samples_split=10, estimator__n_estimators=20; total time=   0.6s\n",
      "[CV] END estimator__criterion=gini, estimator__min_samples_split=10, estimator__n_estimators=20; total time=   0.6s\n",
      "[CV] END estimator__criterion=gini, estimator__min_samples_split=10, estimator__n_estimators=20; total time=   0.6s\n",
      "[CV] END estimator__criterion=gini, estimator__min_samples_split=10, estimator__n_estimators=30; total time=   0.7s\n",
      "[CV] END estimator__criterion=gini, estimator__min_samples_split=10, estimator__n_estimators=30; total time=   0.7s\n",
      "[CV] END estimator__criterion=gini, estimator__min_samples_split=10, estimator__n_estimators=30; total time=   0.7s\n",
      "[CV] END estimator__criterion=gini, estimator__min_samples_split=10, estimator__n_estimators=30; total time=   0.7s\n",
      "[CV] END estimator__criterion=gini, estimator__min_samples_split=10, estimator__n_estimators=30; total time=   0.7s\n",
      "[CV] END estimator__criterion=gini, estimator__min_samples_split=10, estimator__n_estimators=40; total time=   0.9s\n",
      "[CV] END estimator__criterion=gini, estimator__min_samples_split=10, estimator__n_estimators=40; total time=   0.9s\n",
      "[CV] END estimator__criterion=gini, estimator__min_samples_split=10, estimator__n_estimators=40; total time=   0.9s\n",
      "[CV] END estimator__criterion=gini, estimator__min_samples_split=10, estimator__n_estimators=40; total time=   0.9s\n",
      "[CV] END estimator__criterion=gini, estimator__min_samples_split=10, estimator__n_estimators=40; total time=   0.9s\n",
      "[CV] END estimator__criterion=gini, estimator__min_samples_split=10, estimator__n_estimators=50; total time=   1.0s\n",
      "[CV] END estimator__criterion=gini, estimator__min_samples_split=10, estimator__n_estimators=50; total time=   1.1s\n",
      "[CV] END estimator__criterion=gini, estimator__min_samples_split=10, estimator__n_estimators=50; total time=   1.0s\n",
      "[CV] END estimator__criterion=gini, estimator__min_samples_split=10, estimator__n_estimators=50; total time=   1.0s\n",
      "[CV] END estimator__criterion=gini, estimator__min_samples_split=10, estimator__n_estimators=50; total time=   1.0s\n",
      "[CV] END estimator__criterion=gini, estimator__min_samples_split=10, estimator__n_estimators=60; total time=   1.2s\n",
      "[CV] END estimator__criterion=gini, estimator__min_samples_split=10, estimator__n_estimators=60; total time=   1.2s\n",
      "[CV] END estimator__criterion=gini, estimator__min_samples_split=10, estimator__n_estimators=60; total time=   1.2s\n",
      "[CV] END estimator__criterion=gini, estimator__min_samples_split=10, estimator__n_estimators=60; total time=   1.2s\n",
      "[CV] END estimator__criterion=gini, estimator__min_samples_split=10, estimator__n_estimators=60; total time=   1.2s\n",
      "[CV] END estimator__criterion=gini, estimator__min_samples_split=10, estimator__n_estimators=70; total time=   1.3s\n",
      "[CV] END estimator__criterion=gini, estimator__min_samples_split=10, estimator__n_estimators=70; total time=   1.4s\n",
      "[CV] END estimator__criterion=gini, estimator__min_samples_split=10, estimator__n_estimators=70; total time=   1.4s\n",
      "[CV] END estimator__criterion=gini, estimator__min_samples_split=10, estimator__n_estimators=70; total time=   1.4s\n",
      "[CV] END estimator__criterion=gini, estimator__min_samples_split=10, estimator__n_estimators=70; total time=   1.4s\n",
      "[CV] END estimator__criterion=gini, estimator__min_samples_split=10, estimator__n_estimators=80; total time=   1.5s\n",
      "[CV] END estimator__criterion=gini, estimator__min_samples_split=10, estimator__n_estimators=80; total time=   1.5s\n",
      "[CV] END estimator__criterion=gini, estimator__min_samples_split=10, estimator__n_estimators=80; total time=   1.5s\n",
      "[CV] END estimator__criterion=gini, estimator__min_samples_split=10, estimator__n_estimators=80; total time=   1.4s\n",
      "[CV] END estimator__criterion=gini, estimator__min_samples_split=10, estimator__n_estimators=80; total time=   1.5s\n",
      "[CV] END estimator__criterion=gini, estimator__min_samples_split=10, estimator__n_estimators=90; total time=   1.6s\n",
      "[CV] END estimator__criterion=gini, estimator__min_samples_split=10, estimator__n_estimators=90; total time=   1.7s\n",
      "[CV] END estimator__criterion=gini, estimator__min_samples_split=10, estimator__n_estimators=90; total time=   1.6s\n",
      "[CV] END estimator__criterion=gini, estimator__min_samples_split=10, estimator__n_estimators=90; total time=   1.7s\n",
      "[CV] END estimator__criterion=gini, estimator__min_samples_split=10, estimator__n_estimators=90; total time=   1.7s\n",
      "[CV] END estimator__criterion=gini, estimator__min_samples_split=20, estimator__n_estimators=10; total time=   0.4s\n",
      "[CV] END estimator__criterion=gini, estimator__min_samples_split=20, estimator__n_estimators=10; total time=   0.4s\n",
      "[CV] END estimator__criterion=gini, estimator__min_samples_split=20, estimator__n_estimators=10; total time=   0.4s\n",
      "[CV] END estimator__criterion=gini, estimator__min_samples_split=20, estimator__n_estimators=10; total time=   0.4s\n",
      "[CV] END estimator__criterion=gini, estimator__min_samples_split=20, estimator__n_estimators=10; total time=   0.4s\n",
      "[CV] END estimator__criterion=gini, estimator__min_samples_split=20, estimator__n_estimators=20; total time=   0.5s\n",
      "[CV] END estimator__criterion=gini, estimator__min_samples_split=20, estimator__n_estimators=20; total time=   0.6s\n",
      "[CV] END estimator__criterion=gini, estimator__min_samples_split=20, estimator__n_estimators=20; total time=   0.5s\n",
      "[CV] END estimator__criterion=gini, estimator__min_samples_split=20, estimator__n_estimators=20; total time=   0.5s\n",
      "[CV] END estimator__criterion=gini, estimator__min_samples_split=20, estimator__n_estimators=20; total time=   0.6s\n",
      "[CV] END estimator__criterion=gini, estimator__min_samples_split=20, estimator__n_estimators=30; total time=   0.7s\n",
      "[CV] END estimator__criterion=gini, estimator__min_samples_split=20, estimator__n_estimators=30; total time=   0.7s\n",
      "[CV] END estimator__criterion=gini, estimator__min_samples_split=20, estimator__n_estimators=30; total time=   0.7s\n",
      "[CV] END estimator__criterion=gini, estimator__min_samples_split=20, estimator__n_estimators=30; total time=   0.7s\n",
      "[CV] END estimator__criterion=gini, estimator__min_samples_split=20, estimator__n_estimators=30; total time=   0.7s\n",
      "[CV] END estimator__criterion=gini, estimator__min_samples_split=20, estimator__n_estimators=40; total time=   0.8s\n",
      "[CV] END estimator__criterion=gini, estimator__min_samples_split=20, estimator__n_estimators=40; total time=   0.9s\n",
      "[CV] END estimator__criterion=gini, estimator__min_samples_split=20, estimator__n_estimators=40; total time=   0.8s\n",
      "[CV] END estimator__criterion=gini, estimator__min_samples_split=20, estimator__n_estimators=40; total time=   0.9s\n",
      "[CV] END estimator__criterion=gini, estimator__min_samples_split=20, estimator__n_estimators=40; total time=   0.9s\n",
      "[CV] END estimator__criterion=gini, estimator__min_samples_split=20, estimator__n_estimators=50; total time=   1.0s\n",
      "[CV] END estimator__criterion=gini, estimator__min_samples_split=20, estimator__n_estimators=50; total time=   1.0s\n",
      "[CV] END estimator__criterion=gini, estimator__min_samples_split=20, estimator__n_estimators=50; total time=   1.0s\n",
      "[CV] END estimator__criterion=gini, estimator__min_samples_split=20, estimator__n_estimators=50; total time=   1.0s\n",
      "[CV] END estimator__criterion=gini, estimator__min_samples_split=20, estimator__n_estimators=50; total time=   1.0s\n",
      "[CV] END estimator__criterion=gini, estimator__min_samples_split=20, estimator__n_estimators=60; total time=   1.1s\n",
      "[CV] END estimator__criterion=gini, estimator__min_samples_split=20, estimator__n_estimators=60; total time=   1.2s\n",
      "[CV] END estimator__criterion=gini, estimator__min_samples_split=20, estimator__n_estimators=60; total time=   1.1s\n",
      "[CV] END estimator__criterion=gini, estimator__min_samples_split=20, estimator__n_estimators=60; total time=   1.2s\n",
      "[CV] END estimator__criterion=gini, estimator__min_samples_split=20, estimator__n_estimators=60; total time=   1.2s\n",
      "[CV] END estimator__criterion=gini, estimator__min_samples_split=20, estimator__n_estimators=70; total time=   1.3s\n",
      "[CV] END estimator__criterion=gini, estimator__min_samples_split=20, estimator__n_estimators=70; total time=   1.3s\n",
      "[CV] END estimator__criterion=gini, estimator__min_samples_split=20, estimator__n_estimators=70; total time=   1.3s\n",
      "[CV] END estimator__criterion=gini, estimator__min_samples_split=20, estimator__n_estimators=70; total time=   1.3s\n",
      "[CV] END estimator__criterion=gini, estimator__min_samples_split=20, estimator__n_estimators=70; total time=   1.3s\n",
      "[CV] END estimator__criterion=gini, estimator__min_samples_split=20, estimator__n_estimators=80; total time=   1.4s\n",
      "[CV] END estimator__criterion=gini, estimator__min_samples_split=20, estimator__n_estimators=80; total time=   1.5s\n",
      "[CV] END estimator__criterion=gini, estimator__min_samples_split=20, estimator__n_estimators=80; total time=   1.4s\n",
      "[CV] END estimator__criterion=gini, estimator__min_samples_split=20, estimator__n_estimators=80; total time=   1.5s\n",
      "[CV] END estimator__criterion=gini, estimator__min_samples_split=20, estimator__n_estimators=80; total time=   1.5s\n",
      "[CV] END estimator__criterion=gini, estimator__min_samples_split=20, estimator__n_estimators=90; total time=   1.6s\n",
      "[CV] END estimator__criterion=gini, estimator__min_samples_split=20, estimator__n_estimators=90; total time=   1.7s\n",
      "[CV] END estimator__criterion=gini, estimator__min_samples_split=20, estimator__n_estimators=90; total time=   1.6s\n",
      "[CV] END estimator__criterion=gini, estimator__min_samples_split=20, estimator__n_estimators=90; total time=   1.6s\n",
      "[CV] END estimator__criterion=gini, estimator__min_samples_split=20, estimator__n_estimators=90; total time=   1.6s\n",
      "[CV] END estimator__criterion=entropy, estimator__min_samples_split=10, estimator__n_estimators=10; total time=   0.4s\n",
      "[CV] END estimator__criterion=entropy, estimator__min_samples_split=10, estimator__n_estimators=10; total time=   0.4s\n",
      "[CV] END estimator__criterion=entropy, estimator__min_samples_split=10, estimator__n_estimators=10; total time=   0.4s\n",
      "[CV] END estimator__criterion=entropy, estimator__min_samples_split=10, estimator__n_estimators=10; total time=   0.4s\n",
      "[CV] END estimator__criterion=entropy, estimator__min_samples_split=10, estimator__n_estimators=10; total time=   0.4s\n",
      "[CV] END estimator__criterion=entropy, estimator__min_samples_split=10, estimator__n_estimators=20; total time=   0.6s\n",
      "[CV] END estimator__criterion=entropy, estimator__min_samples_split=10, estimator__n_estimators=20; total time=   0.6s\n",
      "[CV] END estimator__criterion=entropy, estimator__min_samples_split=10, estimator__n_estimators=20; total time=   0.6s\n",
      "[CV] END estimator__criterion=entropy, estimator__min_samples_split=10, estimator__n_estimators=20; total time=   0.6s\n",
      "[CV] END estimator__criterion=entropy, estimator__min_samples_split=10, estimator__n_estimators=20; total time=   0.6s\n",
      "[CV] END estimator__criterion=entropy, estimator__min_samples_split=10, estimator__n_estimators=30; total time=   0.8s\n",
      "[CV] END estimator__criterion=entropy, estimator__min_samples_split=10, estimator__n_estimators=30; total time=   0.8s\n",
      "[CV] END estimator__criterion=entropy, estimator__min_samples_split=10, estimator__n_estimators=30; total time=   0.8s\n",
      "[CV] END estimator__criterion=entropy, estimator__min_samples_split=10, estimator__n_estimators=30; total time=   0.8s\n",
      "[CV] END estimator__criterion=entropy, estimator__min_samples_split=10, estimator__n_estimators=30; total time=   0.8s\n",
      "[CV] END estimator__criterion=entropy, estimator__min_samples_split=10, estimator__n_estimators=40; total time=   0.9s\n",
      "[CV] END estimator__criterion=entropy, estimator__min_samples_split=10, estimator__n_estimators=40; total time=   1.0s\n",
      "[CV] END estimator__criterion=entropy, estimator__min_samples_split=10, estimator__n_estimators=40; total time=   1.0s\n",
      "[CV] END estimator__criterion=entropy, estimator__min_samples_split=10, estimator__n_estimators=40; total time=   1.0s\n",
      "[CV] END estimator__criterion=entropy, estimator__min_samples_split=10, estimator__n_estimators=40; total time=   1.0s\n",
      "[CV] END estimator__criterion=entropy, estimator__min_samples_split=10, estimator__n_estimators=50; total time=   1.1s\n",
      "[CV] END estimator__criterion=entropy, estimator__min_samples_split=10, estimator__n_estimators=50; total time=   1.2s\n",
      "[CV] END estimator__criterion=entropy, estimator__min_samples_split=10, estimator__n_estimators=50; total time=   1.1s\n",
      "[CV] END estimator__criterion=entropy, estimator__min_samples_split=10, estimator__n_estimators=50; total time=   1.2s\n",
      "[CV] END estimator__criterion=entropy, estimator__min_samples_split=10, estimator__n_estimators=50; total time=   1.2s\n",
      "[CV] END estimator__criterion=entropy, estimator__min_samples_split=10, estimator__n_estimators=60; total time=   1.3s\n",
      "[CV] END estimator__criterion=entropy, estimator__min_samples_split=10, estimator__n_estimators=60; total time=   1.4s\n",
      "[CV] END estimator__criterion=entropy, estimator__min_samples_split=10, estimator__n_estimators=60; total time=   1.3s\n",
      "[CV] END estimator__criterion=entropy, estimator__min_samples_split=10, estimator__n_estimators=60; total time=   1.4s\n",
      "[CV] END estimator__criterion=entropy, estimator__min_samples_split=10, estimator__n_estimators=60; total time=   1.3s\n",
      "[CV] END estimator__criterion=entropy, estimator__min_samples_split=10, estimator__n_estimators=70; total time=   1.5s\n",
      "[CV] END estimator__criterion=entropy, estimator__min_samples_split=10, estimator__n_estimators=70; total time=   1.6s\n",
      "[CV] END estimator__criterion=entropy, estimator__min_samples_split=10, estimator__n_estimators=70; total time=   1.5s\n",
      "[CV] END estimator__criterion=entropy, estimator__min_samples_split=10, estimator__n_estimators=70; total time=   1.5s\n",
      "[CV] END estimator__criterion=entropy, estimator__min_samples_split=10, estimator__n_estimators=70; total time=   1.5s\n",
      "[CV] END estimator__criterion=entropy, estimator__min_samples_split=10, estimator__n_estimators=80; total time=   1.6s\n",
      "[CV] END estimator__criterion=entropy, estimator__min_samples_split=10, estimator__n_estimators=80; total time=   1.8s\n",
      "[CV] END estimator__criterion=entropy, estimator__min_samples_split=10, estimator__n_estimators=80; total time=   1.7s\n",
      "[CV] END estimator__criterion=entropy, estimator__min_samples_split=10, estimator__n_estimators=80; total time=   1.7s\n",
      "[CV] END estimator__criterion=entropy, estimator__min_samples_split=10, estimator__n_estimators=80; total time=   1.7s\n",
      "[CV] END estimator__criterion=entropy, estimator__min_samples_split=10, estimator__n_estimators=90; total time=   1.8s\n",
      "[CV] END estimator__criterion=entropy, estimator__min_samples_split=10, estimator__n_estimators=90; total time=   1.9s\n",
      "[CV] END estimator__criterion=entropy, estimator__min_samples_split=10, estimator__n_estimators=90; total time=   1.9s\n",
      "[CV] END estimator__criterion=entropy, estimator__min_samples_split=10, estimator__n_estimators=90; total time=   1.8s\n",
      "[CV] END estimator__criterion=entropy, estimator__min_samples_split=10, estimator__n_estimators=90; total time=   1.9s\n",
      "[CV] END estimator__criterion=entropy, estimator__min_samples_split=20, estimator__n_estimators=10; total time=   0.4s\n",
      "[CV] END estimator__criterion=entropy, estimator__min_samples_split=20, estimator__n_estimators=10; total time=   0.4s\n",
      "[CV] END estimator__criterion=entropy, estimator__min_samples_split=20, estimator__n_estimators=10; total time=   0.4s\n",
      "[CV] END estimator__criterion=entropy, estimator__min_samples_split=20, estimator__n_estimators=10; total time=   0.4s\n",
      "[CV] END estimator__criterion=entropy, estimator__min_samples_split=20, estimator__n_estimators=10; total time=   0.4s\n",
      "[CV] END estimator__criterion=entropy, estimator__min_samples_split=20, estimator__n_estimators=20; total time=   0.6s\n",
      "[CV] END estimator__criterion=entropy, estimator__min_samples_split=20, estimator__n_estimators=20; total time=   0.6s\n",
      "[CV] END estimator__criterion=entropy, estimator__min_samples_split=20, estimator__n_estimators=20; total time=   0.6s\n",
      "[CV] END estimator__criterion=entropy, estimator__min_samples_split=20, estimator__n_estimators=20; total time=   0.6s\n",
      "[CV] END estimator__criterion=entropy, estimator__min_samples_split=20, estimator__n_estimators=20; total time=   0.6s\n",
      "[CV] END estimator__criterion=entropy, estimator__min_samples_split=20, estimator__n_estimators=30; total time=   0.8s\n",
      "[CV] END estimator__criterion=entropy, estimator__min_samples_split=20, estimator__n_estimators=30; total time=   0.8s\n",
      "[CV] END estimator__criterion=entropy, estimator__min_samples_split=20, estimator__n_estimators=30; total time=   0.8s\n",
      "[CV] END estimator__criterion=entropy, estimator__min_samples_split=20, estimator__n_estimators=30; total time=   0.8s\n",
      "[CV] END estimator__criterion=entropy, estimator__min_samples_split=20, estimator__n_estimators=30; total time=   0.8s\n",
      "[CV] END estimator__criterion=entropy, estimator__min_samples_split=20, estimator__n_estimators=40; total time=   0.9s\n",
      "[CV] END estimator__criterion=entropy, estimator__min_samples_split=20, estimator__n_estimators=40; total time=   1.0s\n",
      "[CV] END estimator__criterion=entropy, estimator__min_samples_split=20, estimator__n_estimators=40; total time=   1.0s\n",
      "[CV] END estimator__criterion=entropy, estimator__min_samples_split=20, estimator__n_estimators=40; total time=   1.0s\n",
      "[CV] END estimator__criterion=entropy, estimator__min_samples_split=20, estimator__n_estimators=40; total time=   1.0s\n",
      "[CV] END estimator__criterion=entropy, estimator__min_samples_split=20, estimator__n_estimators=50; total time=   1.1s\n",
      "[CV] END estimator__criterion=entropy, estimator__min_samples_split=20, estimator__n_estimators=50; total time=   1.2s\n",
      "[CV] END estimator__criterion=entropy, estimator__min_samples_split=20, estimator__n_estimators=50; total time=   1.1s\n",
      "[CV] END estimator__criterion=entropy, estimator__min_samples_split=20, estimator__n_estimators=50; total time=   1.1s\n",
      "[CV] END estimator__criterion=entropy, estimator__min_samples_split=20, estimator__n_estimators=50; total time=   1.1s\n",
      "[CV] END estimator__criterion=entropy, estimator__min_samples_split=20, estimator__n_estimators=60; total time=   1.3s\n",
      "[CV] END estimator__criterion=entropy, estimator__min_samples_split=20, estimator__n_estimators=60; total time=   1.3s\n",
      "[CV] END estimator__criterion=entropy, estimator__min_samples_split=20, estimator__n_estimators=60; total time=   1.3s\n",
      "[CV] END estimator__criterion=entropy, estimator__min_samples_split=20, estimator__n_estimators=60; total time=   1.3s\n",
      "[CV] END estimator__criterion=entropy, estimator__min_samples_split=20, estimator__n_estimators=60; total time=   1.3s\n",
      "[CV] END estimator__criterion=entropy, estimator__min_samples_split=20, estimator__n_estimators=70; total time=   1.4s\n",
      "[CV] END estimator__criterion=entropy, estimator__min_samples_split=20, estimator__n_estimators=70; total time=   1.5s\n",
      "[CV] END estimator__criterion=entropy, estimator__min_samples_split=20, estimator__n_estimators=70; total time=   1.4s\n",
      "[CV] END estimator__criterion=entropy, estimator__min_samples_split=20, estimator__n_estimators=70; total time=   1.5s\n",
      "[CV] END estimator__criterion=entropy, estimator__min_samples_split=20, estimator__n_estimators=70; total time=   1.5s\n",
      "[CV] END estimator__criterion=entropy, estimator__min_samples_split=20, estimator__n_estimators=80; total time=   1.6s\n",
      "[CV] END estimator__criterion=entropy, estimator__min_samples_split=20, estimator__n_estimators=80; total time=   1.7s\n",
      "[CV] END estimator__criterion=entropy, estimator__min_samples_split=20, estimator__n_estimators=80; total time=   1.6s\n",
      "[CV] END estimator__criterion=entropy, estimator__min_samples_split=20, estimator__n_estimators=80; total time=   1.6s\n",
      "[CV] END estimator__criterion=entropy, estimator__min_samples_split=20, estimator__n_estimators=80; total time=   1.7s\n",
      "[CV] END estimator__criterion=entropy, estimator__min_samples_split=20, estimator__n_estimators=90; total time=   1.8s\n",
      "[CV] END estimator__criterion=entropy, estimator__min_samples_split=20, estimator__n_estimators=90; total time=   1.9s\n",
      "[CV] END estimator__criterion=entropy, estimator__min_samples_split=20, estimator__n_estimators=90; total time=   1.8s\n",
      "[CV] END estimator__criterion=entropy, estimator__min_samples_split=20, estimator__n_estimators=90; total time=   1.9s\n",
      "[CV] END estimator__criterion=entropy, estimator__min_samples_split=20, estimator__n_estimators=90; total time=   1.9s\n",
      "[CV] END estimator__criterion=log_loss, estimator__min_samples_split=10, estimator__n_estimators=10; total time=   0.4s\n",
      "[CV] END estimator__criterion=log_loss, estimator__min_samples_split=10, estimator__n_estimators=10; total time=   0.4s\n",
      "[CV] END estimator__criterion=log_loss, estimator__min_samples_split=10, estimator__n_estimators=10; total time=   0.4s\n",
      "[CV] END estimator__criterion=log_loss, estimator__min_samples_split=10, estimator__n_estimators=10; total time=   0.4s\n",
      "[CV] END estimator__criterion=log_loss, estimator__min_samples_split=10, estimator__n_estimators=10; total time=   0.4s\n",
      "[CV] END estimator__criterion=log_loss, estimator__min_samples_split=10, estimator__n_estimators=20; total time=   0.6s\n",
      "[CV] END estimator__criterion=log_loss, estimator__min_samples_split=10, estimator__n_estimators=20; total time=   0.6s\n",
      "[CV] END estimator__criterion=log_loss, estimator__min_samples_split=10, estimator__n_estimators=20; total time=   0.6s\n",
      "[CV] END estimator__criterion=log_loss, estimator__min_samples_split=10, estimator__n_estimators=20; total time=   0.6s\n",
      "[CV] END estimator__criterion=log_loss, estimator__min_samples_split=10, estimator__n_estimators=20; total time=   0.6s\n",
      "[CV] END estimator__criterion=log_loss, estimator__min_samples_split=10, estimator__n_estimators=30; total time=   0.8s\n",
      "[CV] END estimator__criterion=log_loss, estimator__min_samples_split=10, estimator__n_estimators=30; total time=   0.8s\n",
      "[CV] END estimator__criterion=log_loss, estimator__min_samples_split=10, estimator__n_estimators=30; total time=   0.8s\n",
      "[CV] END estimator__criterion=log_loss, estimator__min_samples_split=10, estimator__n_estimators=30; total time=   0.8s\n",
      "[CV] END estimator__criterion=log_loss, estimator__min_samples_split=10, estimator__n_estimators=30; total time=   0.8s\n",
      "[CV] END estimator__criterion=log_loss, estimator__min_samples_split=10, estimator__n_estimators=40; total time=   0.9s\n"
     ]
    },
    {
     "ename": "KeyboardInterrupt",
     "evalue": "",
     "output_type": "error",
     "traceback": [
      "\u001B[0;31m---------------------------------------------------------------------------\u001B[0m",
      "\u001B[0;31mKeyboardInterrupt\u001B[0m                         Traceback (most recent call last)",
      "Input \u001B[0;32mIn [5]\u001B[0m, in \u001B[0;36m<cell line: 1>\u001B[0;34m()\u001B[0m\n\u001B[1;32m      1\u001B[0m \u001B[38;5;28;01mfor\u001B[39;00m estimator \u001B[38;5;129;01min\u001B[39;00m estimators[:\u001B[38;5;241m1\u001B[39m]:\n\u001B[0;32m----> 2\u001B[0m     \u001B[43mgrid_search\u001B[49m\u001B[43m(\u001B[49m\u001B[43mestimator\u001B[49m\u001B[43m,\u001B[49m\u001B[43m \u001B[49m\u001B[43mX_train\u001B[49m\u001B[43m,\u001B[49m\u001B[43m \u001B[49m\u001B[43my_train\u001B[49m\u001B[43m,\u001B[49m\u001B[43m \u001B[49m\u001B[43msave\u001B[49m\u001B[38;5;241;43m=\u001B[39;49m\u001B[38;5;28;43;01mTrue\u001B[39;49;00m\u001B[43m)\u001B[49m\n",
      "File \u001B[0;32m/study/1 USC/3 Fall 2022/EE660/Project/ee660-project/train.py:61\u001B[0m, in \u001B[0;36mgrid_search\u001B[0;34m(model, X_train, y_train, sampler, save)\u001B[0m\n\u001B[1;32m     51\u001B[0m clf \u001B[38;5;241m=\u001B[39m GridSearchCV(\n\u001B[1;32m     52\u001B[0m     estimator\u001B[38;5;241m=\u001B[39mpipeline,\n\u001B[1;32m     53\u001B[0m     param_grid\u001B[38;5;241m=\u001B[39mgrid_params\u001B[38;5;241m.\u001B[39mget(model\u001B[38;5;241m.\u001B[39m\u001B[38;5;18m__name__\u001B[39m),\n\u001B[0;32m   (...)\u001B[0m\n\u001B[1;32m     57\u001B[0m     verbose\u001B[38;5;241m=\u001B[39m\u001B[38;5;241m2\u001B[39m\n\u001B[1;32m     58\u001B[0m )\n\u001B[1;32m     60\u001B[0m \u001B[38;5;66;03m# Fit grid search on the training data\u001B[39;00m\n\u001B[0;32m---> 61\u001B[0m \u001B[43mclf\u001B[49m\u001B[38;5;241;43m.\u001B[39;49m\u001B[43mfit\u001B[49m\u001B[43m(\u001B[49m\u001B[43mX_train\u001B[49m\u001B[43m,\u001B[49m\u001B[43m \u001B[49m\u001B[43my_train\u001B[49m\u001B[43m)\u001B[49m\n\u001B[1;32m     63\u001B[0m \u001B[38;5;66;03m# Pickle the model\u001B[39;00m\n\u001B[1;32m     64\u001B[0m \u001B[38;5;28;01mif\u001B[39;00m save:\n",
      "File \u001B[0;32m~/anaconda3/envs/ee641/lib/python3.10/site-packages/sklearn/model_selection/_search.py:875\u001B[0m, in \u001B[0;36mBaseSearchCV.fit\u001B[0;34m(self, X, y, groups, **fit_params)\u001B[0m\n\u001B[1;32m    869\u001B[0m     results \u001B[38;5;241m=\u001B[39m \u001B[38;5;28mself\u001B[39m\u001B[38;5;241m.\u001B[39m_format_results(\n\u001B[1;32m    870\u001B[0m         all_candidate_params, n_splits, all_out, all_more_results\n\u001B[1;32m    871\u001B[0m     )\n\u001B[1;32m    873\u001B[0m     \u001B[38;5;28;01mreturn\u001B[39;00m results\n\u001B[0;32m--> 875\u001B[0m \u001B[38;5;28;43mself\u001B[39;49m\u001B[38;5;241;43m.\u001B[39;49m\u001B[43m_run_search\u001B[49m\u001B[43m(\u001B[49m\u001B[43mevaluate_candidates\u001B[49m\u001B[43m)\u001B[49m\n\u001B[1;32m    877\u001B[0m \u001B[38;5;66;03m# multimetric is determined here because in the case of a callable\u001B[39;00m\n\u001B[1;32m    878\u001B[0m \u001B[38;5;66;03m# self.scoring the return type is only known after calling\u001B[39;00m\n\u001B[1;32m    879\u001B[0m first_test_score \u001B[38;5;241m=\u001B[39m all_out[\u001B[38;5;241m0\u001B[39m][\u001B[38;5;124m\"\u001B[39m\u001B[38;5;124mtest_scores\u001B[39m\u001B[38;5;124m\"\u001B[39m]\n",
      "File \u001B[0;32m~/anaconda3/envs/ee641/lib/python3.10/site-packages/sklearn/model_selection/_search.py:1379\u001B[0m, in \u001B[0;36mGridSearchCV._run_search\u001B[0;34m(self, evaluate_candidates)\u001B[0m\n\u001B[1;32m   1377\u001B[0m \u001B[38;5;28;01mdef\u001B[39;00m \u001B[38;5;21m_run_search\u001B[39m(\u001B[38;5;28mself\u001B[39m, evaluate_candidates):\n\u001B[1;32m   1378\u001B[0m     \u001B[38;5;124;03m\"\"\"Search all candidates in param_grid\"\"\"\u001B[39;00m\n\u001B[0;32m-> 1379\u001B[0m     \u001B[43mevaluate_candidates\u001B[49m\u001B[43m(\u001B[49m\u001B[43mParameterGrid\u001B[49m\u001B[43m(\u001B[49m\u001B[38;5;28;43mself\u001B[39;49m\u001B[38;5;241;43m.\u001B[39;49m\u001B[43mparam_grid\u001B[49m\u001B[43m)\u001B[49m\u001B[43m)\u001B[49m\n",
      "File \u001B[0;32m~/anaconda3/envs/ee641/lib/python3.10/site-packages/sklearn/model_selection/_search.py:822\u001B[0m, in \u001B[0;36mBaseSearchCV.fit.<locals>.evaluate_candidates\u001B[0;34m(candidate_params, cv, more_results)\u001B[0m\n\u001B[1;32m    814\u001B[0m \u001B[38;5;28;01mif\u001B[39;00m \u001B[38;5;28mself\u001B[39m\u001B[38;5;241m.\u001B[39mverbose \u001B[38;5;241m>\u001B[39m \u001B[38;5;241m0\u001B[39m:\n\u001B[1;32m    815\u001B[0m     \u001B[38;5;28mprint\u001B[39m(\n\u001B[1;32m    816\u001B[0m         \u001B[38;5;124m\"\u001B[39m\u001B[38;5;124mFitting \u001B[39m\u001B[38;5;132;01m{0}\u001B[39;00m\u001B[38;5;124m folds for each of \u001B[39m\u001B[38;5;132;01m{1}\u001B[39;00m\u001B[38;5;124m candidates,\u001B[39m\u001B[38;5;124m\"\u001B[39m\n\u001B[1;32m    817\u001B[0m         \u001B[38;5;124m\"\u001B[39m\u001B[38;5;124m totalling \u001B[39m\u001B[38;5;132;01m{2}\u001B[39;00m\u001B[38;5;124m fits\u001B[39m\u001B[38;5;124m\"\u001B[39m\u001B[38;5;241m.\u001B[39mformat(\n\u001B[1;32m    818\u001B[0m             n_splits, n_candidates, n_candidates \u001B[38;5;241m*\u001B[39m n_splits\n\u001B[1;32m    819\u001B[0m         )\n\u001B[1;32m    820\u001B[0m     )\n\u001B[0;32m--> 822\u001B[0m out \u001B[38;5;241m=\u001B[39m \u001B[43mparallel\u001B[49m\u001B[43m(\u001B[49m\n\u001B[1;32m    823\u001B[0m \u001B[43m    \u001B[49m\u001B[43mdelayed\u001B[49m\u001B[43m(\u001B[49m\u001B[43m_fit_and_score\u001B[49m\u001B[43m)\u001B[49m\u001B[43m(\u001B[49m\n\u001B[1;32m    824\u001B[0m \u001B[43m        \u001B[49m\u001B[43mclone\u001B[49m\u001B[43m(\u001B[49m\u001B[43mbase_estimator\u001B[49m\u001B[43m)\u001B[49m\u001B[43m,\u001B[49m\n\u001B[1;32m    825\u001B[0m \u001B[43m        \u001B[49m\u001B[43mX\u001B[49m\u001B[43m,\u001B[49m\n\u001B[1;32m    826\u001B[0m \u001B[43m        \u001B[49m\u001B[43my\u001B[49m\u001B[43m,\u001B[49m\n\u001B[1;32m    827\u001B[0m \u001B[43m        \u001B[49m\u001B[43mtrain\u001B[49m\u001B[38;5;241;43m=\u001B[39;49m\u001B[43mtrain\u001B[49m\u001B[43m,\u001B[49m\n\u001B[1;32m    828\u001B[0m \u001B[43m        \u001B[49m\u001B[43mtest\u001B[49m\u001B[38;5;241;43m=\u001B[39;49m\u001B[43mtest\u001B[49m\u001B[43m,\u001B[49m\n\u001B[1;32m    829\u001B[0m \u001B[43m        \u001B[49m\u001B[43mparameters\u001B[49m\u001B[38;5;241;43m=\u001B[39;49m\u001B[43mparameters\u001B[49m\u001B[43m,\u001B[49m\n\u001B[1;32m    830\u001B[0m \u001B[43m        \u001B[49m\u001B[43msplit_progress\u001B[49m\u001B[38;5;241;43m=\u001B[39;49m\u001B[43m(\u001B[49m\u001B[43msplit_idx\u001B[49m\u001B[43m,\u001B[49m\u001B[43m \u001B[49m\u001B[43mn_splits\u001B[49m\u001B[43m)\u001B[49m\u001B[43m,\u001B[49m\n\u001B[1;32m    831\u001B[0m \u001B[43m        \u001B[49m\u001B[43mcandidate_progress\u001B[49m\u001B[38;5;241;43m=\u001B[39;49m\u001B[43m(\u001B[49m\u001B[43mcand_idx\u001B[49m\u001B[43m,\u001B[49m\u001B[43m \u001B[49m\u001B[43mn_candidates\u001B[49m\u001B[43m)\u001B[49m\u001B[43m,\u001B[49m\n\u001B[1;32m    832\u001B[0m \u001B[43m        \u001B[49m\u001B[38;5;241;43m*\u001B[39;49m\u001B[38;5;241;43m*\u001B[39;49m\u001B[43mfit_and_score_kwargs\u001B[49m\u001B[43m,\u001B[49m\n\u001B[1;32m    833\u001B[0m \u001B[43m    \u001B[49m\u001B[43m)\u001B[49m\n\u001B[1;32m    834\u001B[0m \u001B[43m    \u001B[49m\u001B[38;5;28;43;01mfor\u001B[39;49;00m\u001B[43m \u001B[49m\u001B[43m(\u001B[49m\u001B[43mcand_idx\u001B[49m\u001B[43m,\u001B[49m\u001B[43m \u001B[49m\u001B[43mparameters\u001B[49m\u001B[43m)\u001B[49m\u001B[43m,\u001B[49m\u001B[43m \u001B[49m\u001B[43m(\u001B[49m\u001B[43msplit_idx\u001B[49m\u001B[43m,\u001B[49m\u001B[43m \u001B[49m\u001B[43m(\u001B[49m\u001B[43mtrain\u001B[49m\u001B[43m,\u001B[49m\u001B[43m \u001B[49m\u001B[43mtest\u001B[49m\u001B[43m)\u001B[49m\u001B[43m)\u001B[49m\u001B[43m \u001B[49m\u001B[38;5;129;43;01min\u001B[39;49;00m\u001B[43m \u001B[49m\u001B[43mproduct\u001B[49m\u001B[43m(\u001B[49m\n\u001B[1;32m    835\u001B[0m \u001B[43m        \u001B[49m\u001B[38;5;28;43menumerate\u001B[39;49m\u001B[43m(\u001B[49m\u001B[43mcandidate_params\u001B[49m\u001B[43m)\u001B[49m\u001B[43m,\u001B[49m\u001B[43m \u001B[49m\u001B[38;5;28;43menumerate\u001B[39;49m\u001B[43m(\u001B[49m\u001B[43mcv\u001B[49m\u001B[38;5;241;43m.\u001B[39;49m\u001B[43msplit\u001B[49m\u001B[43m(\u001B[49m\u001B[43mX\u001B[49m\u001B[43m,\u001B[49m\u001B[43m \u001B[49m\u001B[43my\u001B[49m\u001B[43m,\u001B[49m\u001B[43m \u001B[49m\u001B[43mgroups\u001B[49m\u001B[43m)\u001B[49m\u001B[43m)\u001B[49m\n\u001B[1;32m    836\u001B[0m \u001B[43m    \u001B[49m\u001B[43m)\u001B[49m\n\u001B[1;32m    837\u001B[0m \u001B[43m\u001B[49m\u001B[43m)\u001B[49m\n\u001B[1;32m    839\u001B[0m \u001B[38;5;28;01mif\u001B[39;00m \u001B[38;5;28mlen\u001B[39m(out) \u001B[38;5;241m<\u001B[39m \u001B[38;5;241m1\u001B[39m:\n\u001B[1;32m    840\u001B[0m     \u001B[38;5;28;01mraise\u001B[39;00m \u001B[38;5;167;01mValueError\u001B[39;00m(\n\u001B[1;32m    841\u001B[0m         \u001B[38;5;124m\"\u001B[39m\u001B[38;5;124mNo fits were performed. \u001B[39m\u001B[38;5;124m\"\u001B[39m\n\u001B[1;32m    842\u001B[0m         \u001B[38;5;124m\"\u001B[39m\u001B[38;5;124mWas the CV iterator empty? \u001B[39m\u001B[38;5;124m\"\u001B[39m\n\u001B[1;32m    843\u001B[0m         \u001B[38;5;124m\"\u001B[39m\u001B[38;5;124mWere there no candidates?\u001B[39m\u001B[38;5;124m\"\u001B[39m\n\u001B[1;32m    844\u001B[0m     )\n",
      "File \u001B[0;32m~/anaconda3/envs/ee641/lib/python3.10/site-packages/joblib/parallel.py:1046\u001B[0m, in \u001B[0;36mParallel.__call__\u001B[0;34m(self, iterable)\u001B[0m\n\u001B[1;32m   1043\u001B[0m \u001B[38;5;28;01mif\u001B[39;00m \u001B[38;5;28mself\u001B[39m\u001B[38;5;241m.\u001B[39mdispatch_one_batch(iterator):\n\u001B[1;32m   1044\u001B[0m     \u001B[38;5;28mself\u001B[39m\u001B[38;5;241m.\u001B[39m_iterating \u001B[38;5;241m=\u001B[39m \u001B[38;5;28mself\u001B[39m\u001B[38;5;241m.\u001B[39m_original_iterator \u001B[38;5;129;01mis\u001B[39;00m \u001B[38;5;129;01mnot\u001B[39;00m \u001B[38;5;28;01mNone\u001B[39;00m\n\u001B[0;32m-> 1046\u001B[0m \u001B[38;5;28;01mwhile\u001B[39;00m \u001B[38;5;28;43mself\u001B[39;49m\u001B[38;5;241;43m.\u001B[39;49m\u001B[43mdispatch_one_batch\u001B[49m\u001B[43m(\u001B[49m\u001B[43miterator\u001B[49m\u001B[43m)\u001B[49m:\n\u001B[1;32m   1047\u001B[0m     \u001B[38;5;28;01mpass\u001B[39;00m\n\u001B[1;32m   1049\u001B[0m \u001B[38;5;28;01mif\u001B[39;00m pre_dispatch \u001B[38;5;241m==\u001B[39m \u001B[38;5;124m\"\u001B[39m\u001B[38;5;124mall\u001B[39m\u001B[38;5;124m\"\u001B[39m \u001B[38;5;129;01mor\u001B[39;00m n_jobs \u001B[38;5;241m==\u001B[39m \u001B[38;5;241m1\u001B[39m:\n\u001B[1;32m   1050\u001B[0m     \u001B[38;5;66;03m# The iterable was consumed all at once by the above for loop.\u001B[39;00m\n\u001B[1;32m   1051\u001B[0m     \u001B[38;5;66;03m# No need to wait for async callbacks to trigger to\u001B[39;00m\n\u001B[1;32m   1052\u001B[0m     \u001B[38;5;66;03m# consumption.\u001B[39;00m\n",
      "File \u001B[0;32m~/anaconda3/envs/ee641/lib/python3.10/site-packages/joblib/parallel.py:861\u001B[0m, in \u001B[0;36mParallel.dispatch_one_batch\u001B[0;34m(self, iterator)\u001B[0m\n\u001B[1;32m    859\u001B[0m     \u001B[38;5;28;01mreturn\u001B[39;00m \u001B[38;5;28;01mFalse\u001B[39;00m\n\u001B[1;32m    860\u001B[0m \u001B[38;5;28;01melse\u001B[39;00m:\n\u001B[0;32m--> 861\u001B[0m     \u001B[38;5;28;43mself\u001B[39;49m\u001B[38;5;241;43m.\u001B[39;49m\u001B[43m_dispatch\u001B[49m\u001B[43m(\u001B[49m\u001B[43mtasks\u001B[49m\u001B[43m)\u001B[49m\n\u001B[1;32m    862\u001B[0m     \u001B[38;5;28;01mreturn\u001B[39;00m \u001B[38;5;28;01mTrue\u001B[39;00m\n",
      "File \u001B[0;32m~/anaconda3/envs/ee641/lib/python3.10/site-packages/joblib/parallel.py:779\u001B[0m, in \u001B[0;36mParallel._dispatch\u001B[0;34m(self, batch)\u001B[0m\n\u001B[1;32m    777\u001B[0m \u001B[38;5;28;01mwith\u001B[39;00m \u001B[38;5;28mself\u001B[39m\u001B[38;5;241m.\u001B[39m_lock:\n\u001B[1;32m    778\u001B[0m     job_idx \u001B[38;5;241m=\u001B[39m \u001B[38;5;28mlen\u001B[39m(\u001B[38;5;28mself\u001B[39m\u001B[38;5;241m.\u001B[39m_jobs)\n\u001B[0;32m--> 779\u001B[0m     job \u001B[38;5;241m=\u001B[39m \u001B[38;5;28;43mself\u001B[39;49m\u001B[38;5;241;43m.\u001B[39;49m\u001B[43m_backend\u001B[49m\u001B[38;5;241;43m.\u001B[39;49m\u001B[43mapply_async\u001B[49m\u001B[43m(\u001B[49m\u001B[43mbatch\u001B[49m\u001B[43m,\u001B[49m\u001B[43m \u001B[49m\u001B[43mcallback\u001B[49m\u001B[38;5;241;43m=\u001B[39;49m\u001B[43mcb\u001B[49m\u001B[43m)\u001B[49m\n\u001B[1;32m    780\u001B[0m     \u001B[38;5;66;03m# A job can complete so quickly than its callback is\u001B[39;00m\n\u001B[1;32m    781\u001B[0m     \u001B[38;5;66;03m# called before we get here, causing self._jobs to\u001B[39;00m\n\u001B[1;32m    782\u001B[0m     \u001B[38;5;66;03m# grow. To ensure correct results ordering, .insert is\u001B[39;00m\n\u001B[1;32m    783\u001B[0m     \u001B[38;5;66;03m# used (rather than .append) in the following line\u001B[39;00m\n\u001B[1;32m    784\u001B[0m     \u001B[38;5;28mself\u001B[39m\u001B[38;5;241m.\u001B[39m_jobs\u001B[38;5;241m.\u001B[39minsert(job_idx, job)\n",
      "File \u001B[0;32m~/anaconda3/envs/ee641/lib/python3.10/site-packages/joblib/_parallel_backends.py:208\u001B[0m, in \u001B[0;36mSequentialBackend.apply_async\u001B[0;34m(self, func, callback)\u001B[0m\n\u001B[1;32m    206\u001B[0m \u001B[38;5;28;01mdef\u001B[39;00m \u001B[38;5;21mapply_async\u001B[39m(\u001B[38;5;28mself\u001B[39m, func, callback\u001B[38;5;241m=\u001B[39m\u001B[38;5;28;01mNone\u001B[39;00m):\n\u001B[1;32m    207\u001B[0m     \u001B[38;5;124;03m\"\"\"Schedule a func to be run\"\"\"\u001B[39;00m\n\u001B[0;32m--> 208\u001B[0m     result \u001B[38;5;241m=\u001B[39m \u001B[43mImmediateResult\u001B[49m\u001B[43m(\u001B[49m\u001B[43mfunc\u001B[49m\u001B[43m)\u001B[49m\n\u001B[1;32m    209\u001B[0m     \u001B[38;5;28;01mif\u001B[39;00m callback:\n\u001B[1;32m    210\u001B[0m         callback(result)\n",
      "File \u001B[0;32m~/anaconda3/envs/ee641/lib/python3.10/site-packages/joblib/_parallel_backends.py:572\u001B[0m, in \u001B[0;36mImmediateResult.__init__\u001B[0;34m(self, batch)\u001B[0m\n\u001B[1;32m    569\u001B[0m \u001B[38;5;28;01mdef\u001B[39;00m \u001B[38;5;21m__init__\u001B[39m(\u001B[38;5;28mself\u001B[39m, batch):\n\u001B[1;32m    570\u001B[0m     \u001B[38;5;66;03m# Don't delay the application, to avoid keeping the input\u001B[39;00m\n\u001B[1;32m    571\u001B[0m     \u001B[38;5;66;03m# arguments in memory\u001B[39;00m\n\u001B[0;32m--> 572\u001B[0m     \u001B[38;5;28mself\u001B[39m\u001B[38;5;241m.\u001B[39mresults \u001B[38;5;241m=\u001B[39m \u001B[43mbatch\u001B[49m\u001B[43m(\u001B[49m\u001B[43m)\u001B[49m\n",
      "File \u001B[0;32m~/anaconda3/envs/ee641/lib/python3.10/site-packages/joblib/parallel.py:262\u001B[0m, in \u001B[0;36mBatchedCalls.__call__\u001B[0;34m(self)\u001B[0m\n\u001B[1;32m    258\u001B[0m \u001B[38;5;28;01mdef\u001B[39;00m \u001B[38;5;21m__call__\u001B[39m(\u001B[38;5;28mself\u001B[39m):\n\u001B[1;32m    259\u001B[0m     \u001B[38;5;66;03m# Set the default nested backend to self._backend but do not set the\u001B[39;00m\n\u001B[1;32m    260\u001B[0m     \u001B[38;5;66;03m# change the default number of processes to -1\u001B[39;00m\n\u001B[1;32m    261\u001B[0m     \u001B[38;5;28;01mwith\u001B[39;00m parallel_backend(\u001B[38;5;28mself\u001B[39m\u001B[38;5;241m.\u001B[39m_backend, n_jobs\u001B[38;5;241m=\u001B[39m\u001B[38;5;28mself\u001B[39m\u001B[38;5;241m.\u001B[39m_n_jobs):\n\u001B[0;32m--> 262\u001B[0m         \u001B[38;5;28;01mreturn\u001B[39;00m [func(\u001B[38;5;241m*\u001B[39margs, \u001B[38;5;241m*\u001B[39m\u001B[38;5;241m*\u001B[39mkwargs)\n\u001B[1;32m    263\u001B[0m                 \u001B[38;5;28;01mfor\u001B[39;00m func, args, kwargs \u001B[38;5;129;01min\u001B[39;00m \u001B[38;5;28mself\u001B[39m\u001B[38;5;241m.\u001B[39mitems]\n",
      "File \u001B[0;32m~/anaconda3/envs/ee641/lib/python3.10/site-packages/joblib/parallel.py:262\u001B[0m, in \u001B[0;36m<listcomp>\u001B[0;34m(.0)\u001B[0m\n\u001B[1;32m    258\u001B[0m \u001B[38;5;28;01mdef\u001B[39;00m \u001B[38;5;21m__call__\u001B[39m(\u001B[38;5;28mself\u001B[39m):\n\u001B[1;32m    259\u001B[0m     \u001B[38;5;66;03m# Set the default nested backend to self._backend but do not set the\u001B[39;00m\n\u001B[1;32m    260\u001B[0m     \u001B[38;5;66;03m# change the default number of processes to -1\u001B[39;00m\n\u001B[1;32m    261\u001B[0m     \u001B[38;5;28;01mwith\u001B[39;00m parallel_backend(\u001B[38;5;28mself\u001B[39m\u001B[38;5;241m.\u001B[39m_backend, n_jobs\u001B[38;5;241m=\u001B[39m\u001B[38;5;28mself\u001B[39m\u001B[38;5;241m.\u001B[39m_n_jobs):\n\u001B[0;32m--> 262\u001B[0m         \u001B[38;5;28;01mreturn\u001B[39;00m [\u001B[43mfunc\u001B[49m\u001B[43m(\u001B[49m\u001B[38;5;241;43m*\u001B[39;49m\u001B[43margs\u001B[49m\u001B[43m,\u001B[49m\u001B[43m \u001B[49m\u001B[38;5;241;43m*\u001B[39;49m\u001B[38;5;241;43m*\u001B[39;49m\u001B[43mkwargs\u001B[49m\u001B[43m)\u001B[49m\n\u001B[1;32m    263\u001B[0m                 \u001B[38;5;28;01mfor\u001B[39;00m func, args, kwargs \u001B[38;5;129;01min\u001B[39;00m \u001B[38;5;28mself\u001B[39m\u001B[38;5;241m.\u001B[39mitems]\n",
      "File \u001B[0;32m~/anaconda3/envs/ee641/lib/python3.10/site-packages/sklearn/utils/fixes.py:117\u001B[0m, in \u001B[0;36m_FuncWrapper.__call__\u001B[0;34m(self, *args, **kwargs)\u001B[0m\n\u001B[1;32m    115\u001B[0m \u001B[38;5;28;01mdef\u001B[39;00m \u001B[38;5;21m__call__\u001B[39m(\u001B[38;5;28mself\u001B[39m, \u001B[38;5;241m*\u001B[39margs, \u001B[38;5;241m*\u001B[39m\u001B[38;5;241m*\u001B[39mkwargs):\n\u001B[1;32m    116\u001B[0m     \u001B[38;5;28;01mwith\u001B[39;00m config_context(\u001B[38;5;241m*\u001B[39m\u001B[38;5;241m*\u001B[39m\u001B[38;5;28mself\u001B[39m\u001B[38;5;241m.\u001B[39mconfig):\n\u001B[0;32m--> 117\u001B[0m         \u001B[38;5;28;01mreturn\u001B[39;00m \u001B[38;5;28;43mself\u001B[39;49m\u001B[38;5;241;43m.\u001B[39;49m\u001B[43mfunction\u001B[49m\u001B[43m(\u001B[49m\u001B[38;5;241;43m*\u001B[39;49m\u001B[43margs\u001B[49m\u001B[43m,\u001B[49m\u001B[43m \u001B[49m\u001B[38;5;241;43m*\u001B[39;49m\u001B[38;5;241;43m*\u001B[39;49m\u001B[43mkwargs\u001B[49m\u001B[43m)\u001B[49m\n",
      "File \u001B[0;32m~/anaconda3/envs/ee641/lib/python3.10/site-packages/sklearn/model_selection/_validation.py:686\u001B[0m, in \u001B[0;36m_fit_and_score\u001B[0;34m(estimator, X, y, scorer, train, test, verbose, parameters, fit_params, return_train_score, return_parameters, return_n_test_samples, return_times, return_estimator, split_progress, candidate_progress, error_score)\u001B[0m\n\u001B[1;32m    684\u001B[0m         estimator\u001B[38;5;241m.\u001B[39mfit(X_train, \u001B[38;5;241m*\u001B[39m\u001B[38;5;241m*\u001B[39mfit_params)\n\u001B[1;32m    685\u001B[0m     \u001B[38;5;28;01melse\u001B[39;00m:\n\u001B[0;32m--> 686\u001B[0m         \u001B[43mestimator\u001B[49m\u001B[38;5;241;43m.\u001B[39;49m\u001B[43mfit\u001B[49m\u001B[43m(\u001B[49m\u001B[43mX_train\u001B[49m\u001B[43m,\u001B[49m\u001B[43m \u001B[49m\u001B[43my_train\u001B[49m\u001B[43m,\u001B[49m\u001B[43m \u001B[49m\u001B[38;5;241;43m*\u001B[39;49m\u001B[38;5;241;43m*\u001B[39;49m\u001B[43mfit_params\u001B[49m\u001B[43m)\u001B[49m\n\u001B[1;32m    688\u001B[0m \u001B[38;5;28;01mexcept\u001B[39;00m \u001B[38;5;167;01mException\u001B[39;00m:\n\u001B[1;32m    689\u001B[0m     \u001B[38;5;66;03m# Note fit time as time until error\u001B[39;00m\n\u001B[1;32m    690\u001B[0m     fit_time \u001B[38;5;241m=\u001B[39m time\u001B[38;5;241m.\u001B[39mtime() \u001B[38;5;241m-\u001B[39m start_time\n",
      "File \u001B[0;32m~/anaconda3/envs/ee641/lib/python3.10/site-packages/sklearn/pipeline.py:382\u001B[0m, in \u001B[0;36mPipeline.fit\u001B[0;34m(self, X, y, **fit_params)\u001B[0m\n\u001B[1;32m    380\u001B[0m     \u001B[38;5;28;01mif\u001B[39;00m \u001B[38;5;28mself\u001B[39m\u001B[38;5;241m.\u001B[39m_final_estimator \u001B[38;5;241m!=\u001B[39m \u001B[38;5;124m\"\u001B[39m\u001B[38;5;124mpassthrough\u001B[39m\u001B[38;5;124m\"\u001B[39m:\n\u001B[1;32m    381\u001B[0m         fit_params_last_step \u001B[38;5;241m=\u001B[39m fit_params_steps[\u001B[38;5;28mself\u001B[39m\u001B[38;5;241m.\u001B[39msteps[\u001B[38;5;241m-\u001B[39m\u001B[38;5;241m1\u001B[39m][\u001B[38;5;241m0\u001B[39m]]\n\u001B[0;32m--> 382\u001B[0m         \u001B[38;5;28;43mself\u001B[39;49m\u001B[38;5;241;43m.\u001B[39;49m\u001B[43m_final_estimator\u001B[49m\u001B[38;5;241;43m.\u001B[39;49m\u001B[43mfit\u001B[49m\u001B[43m(\u001B[49m\u001B[43mXt\u001B[49m\u001B[43m,\u001B[49m\u001B[43m \u001B[49m\u001B[43my\u001B[49m\u001B[43m,\u001B[49m\u001B[43m \u001B[49m\u001B[38;5;241;43m*\u001B[39;49m\u001B[38;5;241;43m*\u001B[39;49m\u001B[43mfit_params_last_step\u001B[49m\u001B[43m)\u001B[49m\n\u001B[1;32m    384\u001B[0m \u001B[38;5;28;01mreturn\u001B[39;00m \u001B[38;5;28mself\u001B[39m\n",
      "File \u001B[0;32m~/anaconda3/envs/ee641/lib/python3.10/site-packages/sklearn/ensemble/_forest.py:476\u001B[0m, in \u001B[0;36mBaseForest.fit\u001B[0;34m(self, X, y, sample_weight)\u001B[0m\n\u001B[1;32m    465\u001B[0m trees \u001B[38;5;241m=\u001B[39m [\n\u001B[1;32m    466\u001B[0m     \u001B[38;5;28mself\u001B[39m\u001B[38;5;241m.\u001B[39m_make_estimator(append\u001B[38;5;241m=\u001B[39m\u001B[38;5;28;01mFalse\u001B[39;00m, random_state\u001B[38;5;241m=\u001B[39mrandom_state)\n\u001B[1;32m    467\u001B[0m     \u001B[38;5;28;01mfor\u001B[39;00m i \u001B[38;5;129;01min\u001B[39;00m \u001B[38;5;28mrange\u001B[39m(n_more_estimators)\n\u001B[1;32m    468\u001B[0m ]\n\u001B[1;32m    470\u001B[0m \u001B[38;5;66;03m# Parallel loop: we prefer the threading backend as the Cython code\u001B[39;00m\n\u001B[1;32m    471\u001B[0m \u001B[38;5;66;03m# for fitting the trees is internally releasing the Python GIL\u001B[39;00m\n\u001B[1;32m    472\u001B[0m \u001B[38;5;66;03m# making threading more efficient than multiprocessing in\u001B[39;00m\n\u001B[1;32m    473\u001B[0m \u001B[38;5;66;03m# that case. However, for joblib 0.12+ we respect any\u001B[39;00m\n\u001B[1;32m    474\u001B[0m \u001B[38;5;66;03m# parallel_backend contexts set at a higher level,\u001B[39;00m\n\u001B[1;32m    475\u001B[0m \u001B[38;5;66;03m# since correctness does not rely on using threads.\u001B[39;00m\n\u001B[0;32m--> 476\u001B[0m trees \u001B[38;5;241m=\u001B[39m \u001B[43mParallel\u001B[49m\u001B[43m(\u001B[49m\n\u001B[1;32m    477\u001B[0m \u001B[43m    \u001B[49m\u001B[43mn_jobs\u001B[49m\u001B[38;5;241;43m=\u001B[39;49m\u001B[38;5;28;43mself\u001B[39;49m\u001B[38;5;241;43m.\u001B[39;49m\u001B[43mn_jobs\u001B[49m\u001B[43m,\u001B[49m\n\u001B[1;32m    478\u001B[0m \u001B[43m    \u001B[49m\u001B[43mverbose\u001B[49m\u001B[38;5;241;43m=\u001B[39;49m\u001B[38;5;28;43mself\u001B[39;49m\u001B[38;5;241;43m.\u001B[39;49m\u001B[43mverbose\u001B[49m\u001B[43m,\u001B[49m\n\u001B[1;32m    479\u001B[0m \u001B[43m    \u001B[49m\u001B[43mprefer\u001B[49m\u001B[38;5;241;43m=\u001B[39;49m\u001B[38;5;124;43m\"\u001B[39;49m\u001B[38;5;124;43mthreads\u001B[39;49m\u001B[38;5;124;43m\"\u001B[39;49m\u001B[43m,\u001B[49m\n\u001B[1;32m    480\u001B[0m \u001B[43m\u001B[49m\u001B[43m)\u001B[49m\u001B[43m(\u001B[49m\n\u001B[1;32m    481\u001B[0m \u001B[43m    \u001B[49m\u001B[43mdelayed\u001B[49m\u001B[43m(\u001B[49m\u001B[43m_parallel_build_trees\u001B[49m\u001B[43m)\u001B[49m\u001B[43m(\u001B[49m\n\u001B[1;32m    482\u001B[0m \u001B[43m        \u001B[49m\u001B[43mt\u001B[49m\u001B[43m,\u001B[49m\n\u001B[1;32m    483\u001B[0m \u001B[43m        \u001B[49m\u001B[38;5;28;43mself\u001B[39;49m\u001B[38;5;241;43m.\u001B[39;49m\u001B[43mbootstrap\u001B[49m\u001B[43m,\u001B[49m\n\u001B[1;32m    484\u001B[0m \u001B[43m        \u001B[49m\u001B[43mX\u001B[49m\u001B[43m,\u001B[49m\n\u001B[1;32m    485\u001B[0m \u001B[43m        \u001B[49m\u001B[43my\u001B[49m\u001B[43m,\u001B[49m\n\u001B[1;32m    486\u001B[0m \u001B[43m        \u001B[49m\u001B[43msample_weight\u001B[49m\u001B[43m,\u001B[49m\n\u001B[1;32m    487\u001B[0m \u001B[43m        \u001B[49m\u001B[43mi\u001B[49m\u001B[43m,\u001B[49m\n\u001B[1;32m    488\u001B[0m \u001B[43m        \u001B[49m\u001B[38;5;28;43mlen\u001B[39;49m\u001B[43m(\u001B[49m\u001B[43mtrees\u001B[49m\u001B[43m)\u001B[49m\u001B[43m,\u001B[49m\n\u001B[1;32m    489\u001B[0m \u001B[43m        \u001B[49m\u001B[43mverbose\u001B[49m\u001B[38;5;241;43m=\u001B[39;49m\u001B[38;5;28;43mself\u001B[39;49m\u001B[38;5;241;43m.\u001B[39;49m\u001B[43mverbose\u001B[49m\u001B[43m,\u001B[49m\n\u001B[1;32m    490\u001B[0m \u001B[43m        \u001B[49m\u001B[43mclass_weight\u001B[49m\u001B[38;5;241;43m=\u001B[39;49m\u001B[38;5;28;43mself\u001B[39;49m\u001B[38;5;241;43m.\u001B[39;49m\u001B[43mclass_weight\u001B[49m\u001B[43m,\u001B[49m\n\u001B[1;32m    491\u001B[0m \u001B[43m        \u001B[49m\u001B[43mn_samples_bootstrap\u001B[49m\u001B[38;5;241;43m=\u001B[39;49m\u001B[43mn_samples_bootstrap\u001B[49m\u001B[43m,\u001B[49m\n\u001B[1;32m    492\u001B[0m \u001B[43m    \u001B[49m\u001B[43m)\u001B[49m\n\u001B[1;32m    493\u001B[0m \u001B[43m    \u001B[49m\u001B[38;5;28;43;01mfor\u001B[39;49;00m\u001B[43m \u001B[49m\u001B[43mi\u001B[49m\u001B[43m,\u001B[49m\u001B[43m \u001B[49m\u001B[43mt\u001B[49m\u001B[43m \u001B[49m\u001B[38;5;129;43;01min\u001B[39;49;00m\u001B[43m \u001B[49m\u001B[38;5;28;43menumerate\u001B[39;49m\u001B[43m(\u001B[49m\u001B[43mtrees\u001B[49m\u001B[43m)\u001B[49m\n\u001B[1;32m    494\u001B[0m \u001B[43m\u001B[49m\u001B[43m)\u001B[49m\n\u001B[1;32m    496\u001B[0m \u001B[38;5;66;03m# Collect newly grown trees\u001B[39;00m\n\u001B[1;32m    497\u001B[0m \u001B[38;5;28mself\u001B[39m\u001B[38;5;241m.\u001B[39mestimators_\u001B[38;5;241m.\u001B[39mextend(trees)\n",
      "File \u001B[0;32m~/anaconda3/envs/ee641/lib/python3.10/site-packages/joblib/parallel.py:1046\u001B[0m, in \u001B[0;36mParallel.__call__\u001B[0;34m(self, iterable)\u001B[0m\n\u001B[1;32m   1043\u001B[0m \u001B[38;5;28;01mif\u001B[39;00m \u001B[38;5;28mself\u001B[39m\u001B[38;5;241m.\u001B[39mdispatch_one_batch(iterator):\n\u001B[1;32m   1044\u001B[0m     \u001B[38;5;28mself\u001B[39m\u001B[38;5;241m.\u001B[39m_iterating \u001B[38;5;241m=\u001B[39m \u001B[38;5;28mself\u001B[39m\u001B[38;5;241m.\u001B[39m_original_iterator \u001B[38;5;129;01mis\u001B[39;00m \u001B[38;5;129;01mnot\u001B[39;00m \u001B[38;5;28;01mNone\u001B[39;00m\n\u001B[0;32m-> 1046\u001B[0m \u001B[38;5;28;01mwhile\u001B[39;00m \u001B[38;5;28;43mself\u001B[39;49m\u001B[38;5;241;43m.\u001B[39;49m\u001B[43mdispatch_one_batch\u001B[49m\u001B[43m(\u001B[49m\u001B[43miterator\u001B[49m\u001B[43m)\u001B[49m:\n\u001B[1;32m   1047\u001B[0m     \u001B[38;5;28;01mpass\u001B[39;00m\n\u001B[1;32m   1049\u001B[0m \u001B[38;5;28;01mif\u001B[39;00m pre_dispatch \u001B[38;5;241m==\u001B[39m \u001B[38;5;124m\"\u001B[39m\u001B[38;5;124mall\u001B[39m\u001B[38;5;124m\"\u001B[39m \u001B[38;5;129;01mor\u001B[39;00m n_jobs \u001B[38;5;241m==\u001B[39m \u001B[38;5;241m1\u001B[39m:\n\u001B[1;32m   1050\u001B[0m     \u001B[38;5;66;03m# The iterable was consumed all at once by the above for loop.\u001B[39;00m\n\u001B[1;32m   1051\u001B[0m     \u001B[38;5;66;03m# No need to wait for async callbacks to trigger to\u001B[39;00m\n\u001B[1;32m   1052\u001B[0m     \u001B[38;5;66;03m# consumption.\u001B[39;00m\n",
      "File \u001B[0;32m~/anaconda3/envs/ee641/lib/python3.10/site-packages/joblib/parallel.py:861\u001B[0m, in \u001B[0;36mParallel.dispatch_one_batch\u001B[0;34m(self, iterator)\u001B[0m\n\u001B[1;32m    859\u001B[0m     \u001B[38;5;28;01mreturn\u001B[39;00m \u001B[38;5;28;01mFalse\u001B[39;00m\n\u001B[1;32m    860\u001B[0m \u001B[38;5;28;01melse\u001B[39;00m:\n\u001B[0;32m--> 861\u001B[0m     \u001B[38;5;28;43mself\u001B[39;49m\u001B[38;5;241;43m.\u001B[39;49m\u001B[43m_dispatch\u001B[49m\u001B[43m(\u001B[49m\u001B[43mtasks\u001B[49m\u001B[43m)\u001B[49m\n\u001B[1;32m    862\u001B[0m     \u001B[38;5;28;01mreturn\u001B[39;00m \u001B[38;5;28;01mTrue\u001B[39;00m\n",
      "File \u001B[0;32m~/anaconda3/envs/ee641/lib/python3.10/site-packages/joblib/parallel.py:779\u001B[0m, in \u001B[0;36mParallel._dispatch\u001B[0;34m(self, batch)\u001B[0m\n\u001B[1;32m    777\u001B[0m \u001B[38;5;28;01mwith\u001B[39;00m \u001B[38;5;28mself\u001B[39m\u001B[38;5;241m.\u001B[39m_lock:\n\u001B[1;32m    778\u001B[0m     job_idx \u001B[38;5;241m=\u001B[39m \u001B[38;5;28mlen\u001B[39m(\u001B[38;5;28mself\u001B[39m\u001B[38;5;241m.\u001B[39m_jobs)\n\u001B[0;32m--> 779\u001B[0m     job \u001B[38;5;241m=\u001B[39m \u001B[38;5;28;43mself\u001B[39;49m\u001B[38;5;241;43m.\u001B[39;49m\u001B[43m_backend\u001B[49m\u001B[38;5;241;43m.\u001B[39;49m\u001B[43mapply_async\u001B[49m\u001B[43m(\u001B[49m\u001B[43mbatch\u001B[49m\u001B[43m,\u001B[49m\u001B[43m \u001B[49m\u001B[43mcallback\u001B[49m\u001B[38;5;241;43m=\u001B[39;49m\u001B[43mcb\u001B[49m\u001B[43m)\u001B[49m\n\u001B[1;32m    780\u001B[0m     \u001B[38;5;66;03m# A job can complete so quickly than its callback is\u001B[39;00m\n\u001B[1;32m    781\u001B[0m     \u001B[38;5;66;03m# called before we get here, causing self._jobs to\u001B[39;00m\n\u001B[1;32m    782\u001B[0m     \u001B[38;5;66;03m# grow. To ensure correct results ordering, .insert is\u001B[39;00m\n\u001B[1;32m    783\u001B[0m     \u001B[38;5;66;03m# used (rather than .append) in the following line\u001B[39;00m\n\u001B[1;32m    784\u001B[0m     \u001B[38;5;28mself\u001B[39m\u001B[38;5;241m.\u001B[39m_jobs\u001B[38;5;241m.\u001B[39minsert(job_idx, job)\n",
      "File \u001B[0;32m~/anaconda3/envs/ee641/lib/python3.10/site-packages/joblib/_parallel_backends.py:208\u001B[0m, in \u001B[0;36mSequentialBackend.apply_async\u001B[0;34m(self, func, callback)\u001B[0m\n\u001B[1;32m    206\u001B[0m \u001B[38;5;28;01mdef\u001B[39;00m \u001B[38;5;21mapply_async\u001B[39m(\u001B[38;5;28mself\u001B[39m, func, callback\u001B[38;5;241m=\u001B[39m\u001B[38;5;28;01mNone\u001B[39;00m):\n\u001B[1;32m    207\u001B[0m     \u001B[38;5;124;03m\"\"\"Schedule a func to be run\"\"\"\u001B[39;00m\n\u001B[0;32m--> 208\u001B[0m     result \u001B[38;5;241m=\u001B[39m \u001B[43mImmediateResult\u001B[49m\u001B[43m(\u001B[49m\u001B[43mfunc\u001B[49m\u001B[43m)\u001B[49m\n\u001B[1;32m    209\u001B[0m     \u001B[38;5;28;01mif\u001B[39;00m callback:\n\u001B[1;32m    210\u001B[0m         callback(result)\n",
      "File \u001B[0;32m~/anaconda3/envs/ee641/lib/python3.10/site-packages/joblib/_parallel_backends.py:572\u001B[0m, in \u001B[0;36mImmediateResult.__init__\u001B[0;34m(self, batch)\u001B[0m\n\u001B[1;32m    569\u001B[0m \u001B[38;5;28;01mdef\u001B[39;00m \u001B[38;5;21m__init__\u001B[39m(\u001B[38;5;28mself\u001B[39m, batch):\n\u001B[1;32m    570\u001B[0m     \u001B[38;5;66;03m# Don't delay the application, to avoid keeping the input\u001B[39;00m\n\u001B[1;32m    571\u001B[0m     \u001B[38;5;66;03m# arguments in memory\u001B[39;00m\n\u001B[0;32m--> 572\u001B[0m     \u001B[38;5;28mself\u001B[39m\u001B[38;5;241m.\u001B[39mresults \u001B[38;5;241m=\u001B[39m \u001B[43mbatch\u001B[49m\u001B[43m(\u001B[49m\u001B[43m)\u001B[49m\n",
      "File \u001B[0;32m~/anaconda3/envs/ee641/lib/python3.10/site-packages/joblib/parallel.py:262\u001B[0m, in \u001B[0;36mBatchedCalls.__call__\u001B[0;34m(self)\u001B[0m\n\u001B[1;32m    258\u001B[0m \u001B[38;5;28;01mdef\u001B[39;00m \u001B[38;5;21m__call__\u001B[39m(\u001B[38;5;28mself\u001B[39m):\n\u001B[1;32m    259\u001B[0m     \u001B[38;5;66;03m# Set the default nested backend to self._backend but do not set the\u001B[39;00m\n\u001B[1;32m    260\u001B[0m     \u001B[38;5;66;03m# change the default number of processes to -1\u001B[39;00m\n\u001B[1;32m    261\u001B[0m     \u001B[38;5;28;01mwith\u001B[39;00m parallel_backend(\u001B[38;5;28mself\u001B[39m\u001B[38;5;241m.\u001B[39m_backend, n_jobs\u001B[38;5;241m=\u001B[39m\u001B[38;5;28mself\u001B[39m\u001B[38;5;241m.\u001B[39m_n_jobs):\n\u001B[0;32m--> 262\u001B[0m         \u001B[38;5;28;01mreturn\u001B[39;00m [func(\u001B[38;5;241m*\u001B[39margs, \u001B[38;5;241m*\u001B[39m\u001B[38;5;241m*\u001B[39mkwargs)\n\u001B[1;32m    263\u001B[0m                 \u001B[38;5;28;01mfor\u001B[39;00m func, args, kwargs \u001B[38;5;129;01min\u001B[39;00m \u001B[38;5;28mself\u001B[39m\u001B[38;5;241m.\u001B[39mitems]\n",
      "File \u001B[0;32m~/anaconda3/envs/ee641/lib/python3.10/site-packages/joblib/parallel.py:262\u001B[0m, in \u001B[0;36m<listcomp>\u001B[0;34m(.0)\u001B[0m\n\u001B[1;32m    258\u001B[0m \u001B[38;5;28;01mdef\u001B[39;00m \u001B[38;5;21m__call__\u001B[39m(\u001B[38;5;28mself\u001B[39m):\n\u001B[1;32m    259\u001B[0m     \u001B[38;5;66;03m# Set the default nested backend to self._backend but do not set the\u001B[39;00m\n\u001B[1;32m    260\u001B[0m     \u001B[38;5;66;03m# change the default number of processes to -1\u001B[39;00m\n\u001B[1;32m    261\u001B[0m     \u001B[38;5;28;01mwith\u001B[39;00m parallel_backend(\u001B[38;5;28mself\u001B[39m\u001B[38;5;241m.\u001B[39m_backend, n_jobs\u001B[38;5;241m=\u001B[39m\u001B[38;5;28mself\u001B[39m\u001B[38;5;241m.\u001B[39m_n_jobs):\n\u001B[0;32m--> 262\u001B[0m         \u001B[38;5;28;01mreturn\u001B[39;00m [\u001B[43mfunc\u001B[49m\u001B[43m(\u001B[49m\u001B[38;5;241;43m*\u001B[39;49m\u001B[43margs\u001B[49m\u001B[43m,\u001B[49m\u001B[43m \u001B[49m\u001B[38;5;241;43m*\u001B[39;49m\u001B[38;5;241;43m*\u001B[39;49m\u001B[43mkwargs\u001B[49m\u001B[43m)\u001B[49m\n\u001B[1;32m    263\u001B[0m                 \u001B[38;5;28;01mfor\u001B[39;00m func, args, kwargs \u001B[38;5;129;01min\u001B[39;00m \u001B[38;5;28mself\u001B[39m\u001B[38;5;241m.\u001B[39mitems]\n",
      "File \u001B[0;32m~/anaconda3/envs/ee641/lib/python3.10/site-packages/sklearn/utils/fixes.py:117\u001B[0m, in \u001B[0;36m_FuncWrapper.__call__\u001B[0;34m(self, *args, **kwargs)\u001B[0m\n\u001B[1;32m    115\u001B[0m \u001B[38;5;28;01mdef\u001B[39;00m \u001B[38;5;21m__call__\u001B[39m(\u001B[38;5;28mself\u001B[39m, \u001B[38;5;241m*\u001B[39margs, \u001B[38;5;241m*\u001B[39m\u001B[38;5;241m*\u001B[39mkwargs):\n\u001B[1;32m    116\u001B[0m     \u001B[38;5;28;01mwith\u001B[39;00m config_context(\u001B[38;5;241m*\u001B[39m\u001B[38;5;241m*\u001B[39m\u001B[38;5;28mself\u001B[39m\u001B[38;5;241m.\u001B[39mconfig):\n\u001B[0;32m--> 117\u001B[0m         \u001B[38;5;28;01mreturn\u001B[39;00m \u001B[38;5;28;43mself\u001B[39;49m\u001B[38;5;241;43m.\u001B[39;49m\u001B[43mfunction\u001B[49m\u001B[43m(\u001B[49m\u001B[38;5;241;43m*\u001B[39;49m\u001B[43margs\u001B[49m\u001B[43m,\u001B[49m\u001B[43m \u001B[49m\u001B[38;5;241;43m*\u001B[39;49m\u001B[38;5;241;43m*\u001B[39;49m\u001B[43mkwargs\u001B[49m\u001B[43m)\u001B[49m\n",
      "File \u001B[0;32m~/anaconda3/envs/ee641/lib/python3.10/site-packages/sklearn/ensemble/_forest.py:189\u001B[0m, in \u001B[0;36m_parallel_build_trees\u001B[0;34m(tree, bootstrap, X, y, sample_weight, tree_idx, n_trees, verbose, class_weight, n_samples_bootstrap)\u001B[0m\n\u001B[1;32m    186\u001B[0m     \u001B[38;5;28;01melif\u001B[39;00m class_weight \u001B[38;5;241m==\u001B[39m \u001B[38;5;124m\"\u001B[39m\u001B[38;5;124mbalanced_subsample\u001B[39m\u001B[38;5;124m\"\u001B[39m:\n\u001B[1;32m    187\u001B[0m         curr_sample_weight \u001B[38;5;241m*\u001B[39m\u001B[38;5;241m=\u001B[39m compute_sample_weight(\u001B[38;5;124m\"\u001B[39m\u001B[38;5;124mbalanced\u001B[39m\u001B[38;5;124m\"\u001B[39m, y, indices\u001B[38;5;241m=\u001B[39mindices)\n\u001B[0;32m--> 189\u001B[0m     \u001B[43mtree\u001B[49m\u001B[38;5;241;43m.\u001B[39;49m\u001B[43mfit\u001B[49m\u001B[43m(\u001B[49m\u001B[43mX\u001B[49m\u001B[43m,\u001B[49m\u001B[43m \u001B[49m\u001B[43my\u001B[49m\u001B[43m,\u001B[49m\u001B[43m \u001B[49m\u001B[43msample_weight\u001B[49m\u001B[38;5;241;43m=\u001B[39;49m\u001B[43mcurr_sample_weight\u001B[49m\u001B[43m,\u001B[49m\u001B[43m \u001B[49m\u001B[43mcheck_input\u001B[49m\u001B[38;5;241;43m=\u001B[39;49m\u001B[38;5;28;43;01mFalse\u001B[39;49;00m\u001B[43m)\u001B[49m\n\u001B[1;32m    190\u001B[0m \u001B[38;5;28;01melse\u001B[39;00m:\n\u001B[1;32m    191\u001B[0m     tree\u001B[38;5;241m.\u001B[39mfit(X, y, sample_weight\u001B[38;5;241m=\u001B[39msample_weight, check_input\u001B[38;5;241m=\u001B[39m\u001B[38;5;28;01mFalse\u001B[39;00m)\n",
      "File \u001B[0;32m~/anaconda3/envs/ee641/lib/python3.10/site-packages/sklearn/tree/_classes.py:969\u001B[0m, in \u001B[0;36mDecisionTreeClassifier.fit\u001B[0;34m(self, X, y, sample_weight, check_input)\u001B[0m\n\u001B[1;32m    939\u001B[0m \u001B[38;5;28;01mdef\u001B[39;00m \u001B[38;5;21mfit\u001B[39m(\u001B[38;5;28mself\u001B[39m, X, y, sample_weight\u001B[38;5;241m=\u001B[39m\u001B[38;5;28;01mNone\u001B[39;00m, check_input\u001B[38;5;241m=\u001B[39m\u001B[38;5;28;01mTrue\u001B[39;00m):\n\u001B[1;32m    940\u001B[0m     \u001B[38;5;124;03m\"\"\"Build a decision tree classifier from the training set (X, y).\u001B[39;00m\n\u001B[1;32m    941\u001B[0m \n\u001B[1;32m    942\u001B[0m \u001B[38;5;124;03m    Parameters\u001B[39;00m\n\u001B[0;32m   (...)\u001B[0m\n\u001B[1;32m    966\u001B[0m \u001B[38;5;124;03m        Fitted estimator.\u001B[39;00m\n\u001B[1;32m    967\u001B[0m \u001B[38;5;124;03m    \"\"\"\u001B[39;00m\n\u001B[0;32m--> 969\u001B[0m     \u001B[38;5;28;43msuper\u001B[39;49m\u001B[43m(\u001B[49m\u001B[43m)\u001B[49m\u001B[38;5;241;43m.\u001B[39;49m\u001B[43mfit\u001B[49m\u001B[43m(\u001B[49m\n\u001B[1;32m    970\u001B[0m \u001B[43m        \u001B[49m\u001B[43mX\u001B[49m\u001B[43m,\u001B[49m\n\u001B[1;32m    971\u001B[0m \u001B[43m        \u001B[49m\u001B[43my\u001B[49m\u001B[43m,\u001B[49m\n\u001B[1;32m    972\u001B[0m \u001B[43m        \u001B[49m\u001B[43msample_weight\u001B[49m\u001B[38;5;241;43m=\u001B[39;49m\u001B[43msample_weight\u001B[49m\u001B[43m,\u001B[49m\n\u001B[1;32m    973\u001B[0m \u001B[43m        \u001B[49m\u001B[43mcheck_input\u001B[49m\u001B[38;5;241;43m=\u001B[39;49m\u001B[43mcheck_input\u001B[49m\u001B[43m,\u001B[49m\n\u001B[1;32m    974\u001B[0m \u001B[43m    \u001B[49m\u001B[43m)\u001B[49m\n\u001B[1;32m    975\u001B[0m     \u001B[38;5;28;01mreturn\u001B[39;00m \u001B[38;5;28mself\u001B[39m\n",
      "File \u001B[0;32m~/anaconda3/envs/ee641/lib/python3.10/site-packages/sklearn/tree/_classes.py:458\u001B[0m, in \u001B[0;36mBaseDecisionTree.fit\u001B[0;34m(self, X, y, sample_weight, check_input)\u001B[0m\n\u001B[1;32m    447\u001B[0m \u001B[38;5;28;01melse\u001B[39;00m:\n\u001B[1;32m    448\u001B[0m     builder \u001B[38;5;241m=\u001B[39m BestFirstTreeBuilder(\n\u001B[1;32m    449\u001B[0m         splitter,\n\u001B[1;32m    450\u001B[0m         min_samples_split,\n\u001B[0;32m   (...)\u001B[0m\n\u001B[1;32m    455\u001B[0m         \u001B[38;5;28mself\u001B[39m\u001B[38;5;241m.\u001B[39mmin_impurity_decrease,\n\u001B[1;32m    456\u001B[0m     )\n\u001B[0;32m--> 458\u001B[0m \u001B[43mbuilder\u001B[49m\u001B[38;5;241;43m.\u001B[39;49m\u001B[43mbuild\u001B[49m\u001B[43m(\u001B[49m\u001B[38;5;28;43mself\u001B[39;49m\u001B[38;5;241;43m.\u001B[39;49m\u001B[43mtree_\u001B[49m\u001B[43m,\u001B[49m\u001B[43m \u001B[49m\u001B[43mX\u001B[49m\u001B[43m,\u001B[49m\u001B[43m \u001B[49m\u001B[43my\u001B[49m\u001B[43m,\u001B[49m\u001B[43m \u001B[49m\u001B[43msample_weight\u001B[49m\u001B[43m)\u001B[49m\n\u001B[1;32m    460\u001B[0m \u001B[38;5;28;01mif\u001B[39;00m \u001B[38;5;28mself\u001B[39m\u001B[38;5;241m.\u001B[39mn_outputs_ \u001B[38;5;241m==\u001B[39m \u001B[38;5;241m1\u001B[39m \u001B[38;5;129;01mand\u001B[39;00m is_classifier(\u001B[38;5;28mself\u001B[39m):\n\u001B[1;32m    461\u001B[0m     \u001B[38;5;28mself\u001B[39m\u001B[38;5;241m.\u001B[39mn_classes_ \u001B[38;5;241m=\u001B[39m \u001B[38;5;28mself\u001B[39m\u001B[38;5;241m.\u001B[39mn_classes_[\u001B[38;5;241m0\u001B[39m]\n",
      "\u001B[0;31mKeyboardInterrupt\u001B[0m: "
     ]
    }
   ],
   "source": [
    "for estimator in estimators:\n",
    "    grid_search(estimator, X_train, y_train, save=True)"
   ]
  },
  {
   "cell_type": "markdown",
   "metadata": {},
   "source": [
    "# Fit estimators with oversampling techniques\n",
    "* SMOTE\n",
    "* ADASYN"
   ]
  },
  {
   "cell_type": "code",
   "execution_count": null,
   "metadata": {},
   "outputs": [],
   "source": [
    "for estimator in estimators:\n",
    "    grid_search(estimator,\n",
    "                X_train, y_train,\n",
    "                save=True, sampler=SMOTE)"
   ]
  },
  {
   "cell_type": "code",
   "execution_count": null,
   "metadata": {},
   "outputs": [],
   "source": [
    "for estimator in estimators:\n",
    "    grid_search(estimator,\n",
    "                X_train, y_train,\n",
    "                save=True, sampler=ADASYN)"
   ]
  },
  {
   "cell_type": "markdown",
   "metadata": {},
   "source": [
    "## Fit estimators with undersampling techniques\n",
    "* RandomUnderSampling\n",
    "* EditedNearestNeighbors"
   ]
  },
  {
   "cell_type": "code",
   "execution_count": null,
   "metadata": {},
   "outputs": [],
   "source": [
    "for estimator in estimators:\n",
    "    grid_search(estimator,\n",
    "                X_train, y_train,\n",
    "                save=True, sampler=RandomUnderSampler)"
   ]
  },
  {
   "cell_type": "code",
   "execution_count": null,
   "metadata": {},
   "outputs": [],
   "source": [
    "for estimator in estimators:\n",
    "    grid_search(estimator,\n",
    "                X_train, y_train,\n",
    "                save=True, sampler=EditedNearestNeighbours)"
   ]
  },
  {
   "cell_type": "markdown",
   "metadata": {},
   "source": [
    "## Fit estimators with a combination of oversampling and undersampling\n",
    "* SMOTEENN"
   ]
  },
  {
   "cell_type": "code",
   "execution_count": null,
   "metadata": {},
   "outputs": [],
   "source": [
    "for estimator in estimators:\n",
    "    grid_search(estimator,\n",
    "                X_train, y_train,\n",
    "                save=True, sampler=SMOTEENN)"
   ]
  }
 ],
 "metadata": {
  "kernelspec": {
   "display_name": "Python 3 (ipykernel)",
   "language": "python",
   "name": "python3"
  },
  "language_info": {
   "codemirror_mode": {
    "name": "ipython",
    "version": 3
   },
   "file_extension": ".py",
   "mimetype": "text/x-python",
   "name": "python",
   "nbconvert_exporter": "python",
   "pygments_lexer": "ipython3",
   "version": "3.10.4"
  }
 },
 "nbformat": 4,
 "nbformat_minor": 1
}
